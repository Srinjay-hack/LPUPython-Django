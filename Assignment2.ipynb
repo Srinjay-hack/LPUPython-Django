{
 "cells": [
  {
   "cell_type": "markdown",
   "id": "368c936d",
   "metadata": {},
   "source": [
    "Q1. Write a program to print all the natural numbers from 1 to n (user input). Then print the same in reverse order.\n"
   ]
  },
  {
   "cell_type": "code",
   "execution_count": 9,
   "id": "6692114f",
   "metadata": {},
   "outputs": [
    {
     "name": "stdout",
     "output_type": "stream",
     "text": [
      "Enter the number: 6\n",
      "1 2 3 4 5 6 \n",
      "Reverese Order: \n",
      "6 5 4 3 2 1 "
     ]
    }
   ],
   "source": [
    "n = int(input(\"Enter the number: \"))\n",
    "for i in range (n):\n",
    "    print(i+1, end = \" \")\n",
    "print()\n",
    "print(\"Reverese Order: \")\n",
    "for i in range(n):\n",
    "    print(n-i, end = \" \")"
   ]
  },
  {
   "cell_type": "markdown",
   "id": "a536966b",
   "metadata": {},
   "source": [
    "Q2. Print all odd numbers and even numbers between 1 to 100."
   ]
  },
  {
   "cell_type": "code",
   "execution_count": 11,
   "id": "929218d2",
   "metadata": {},
   "outputs": [
    {
     "name": "stdout",
     "output_type": "stream",
     "text": [
      "Even: 2 4 6 8 10 12 14 16 18 20 22 24 26 28 30 32 34 36 38 40 42 44 46 48 50 52 54 56 58 60 62 64 66 68 70 72 74 76 78 80 82 84 86 88 90 92 94 96 98 100 \n",
      "\n",
      "Odd: 1 3 5 7 9 11 13 15 17 19 21 23 25 27 29 31 33 35 37 39 41 43 45 47 49 51 53 55 57 59 61 63 65 67 69 71 73 75 77 79 81 83 85 87 89 91 93 95 97 99 "
     ]
    }
   ],
   "source": [
    "print(\"Even: \", end = \"\")\n",
    "n=100\n",
    "for i in range(1,n+1):\n",
    "    if i%2 == 0:\n",
    "        print(i, end = \" \")\n",
    "print()        \n",
    "print(\"\\nOdd: \", end = \"\")\n",
    "for i in range(1,n+1):\n",
    "    if i%2 != 0:\n",
    "        print(i, end = \" \")"
   ]
  },
  {
   "cell_type": "markdown",
   "id": "3a39920b",
   "metadata": {},
   "source": [
    "Q3. Write a program to check if a number is prime or not. Example: 7 ==> True, 6 ==> False\n"
   ]
  },
  {
   "cell_type": "code",
   "execution_count": 12,
   "id": "721453b7",
   "metadata": {},
   "outputs": [
    {
     "name": "stdout",
     "output_type": "stream",
     "text": [
      "Enter the number : 5\n",
      "True\n"
     ]
    }
   ],
   "source": [
    "n=int(input(\"Enter the number : \"))\n",
    "if(n==0 or n==1):\n",
    "    print(\"False\")\n",
    "a=0;\n",
    "for i in range (1,n+1):\n",
    "    if(n%i==0):\n",
    "        a+=1\n",
    "if(a>2):\n",
    "    print(\"False\")\n",
    "else:\n",
    "    print(\"True\")"
   ]
  },
  {
   "cell_type": "markdown",
   "id": "61e798c2",
   "metadata": {},
   "source": [
    "Q4. Write a program that asks the user for a number n and prints the sum of the numbers 1 to n such that only multiples of three or five are considered in the sum, e.g. 3, 5, 6, 9, 10, 12, 15 for n=17.\n"
   ]
  },
  {
   "cell_type": "code",
   "execution_count": 13,
   "id": "00960e06",
   "metadata": {},
   "outputs": [
    {
     "name": "stdout",
     "output_type": "stream",
     "text": [
      "Enter the number: 17\n",
      "3 5 6 9 10 12 15 \n",
      "Sum: 60\n"
     ]
    }
   ],
   "source": [
    "n = int(input(\"Enter the number: \"))\n",
    "sum = 0\n",
    "\n",
    "for i in range (1, n):\n",
    "    if (i % 3 == 0 or i % 5 == 0):\n",
    "        sum += i\n",
    "        print(i, end = \" \")\n",
    "\n",
    "print()\n",
    "print(\"Sum:\", sum)"
   ]
  },
  {
   "cell_type": "markdown",
   "id": "a4e4e50e",
   "metadata": {},
   "source": [
    "Q5. Write a program that asks the user for a number n and gives them the possibility to choose between computing the sum and computing the product of 1,…,n."
   ]
  },
  {
   "cell_type": "code",
   "execution_count": 31,
   "id": "add64203",
   "metadata": {},
   "outputs": [
    {
     "name": "stdout",
     "output_type": "stream",
     "text": [
      "Enter the number: 6\n",
      "Enter + for SUM and * for PRODUCT:  *\n",
      "Product =  720\n"
     ]
    }
   ],
   "source": [
    "n=int(input(\"Enter the number: \"))\n",
    "x=input(\"Enter + for SUM and * for PRODUCT:  \")\n",
    "def summ():\n",
    "    s=0\n",
    "    for i in range(1,n+1):\n",
    "        s+=i\n",
    "    print(\"Sum = \",s)\n",
    "def product():\n",
    "    p=1\n",
    "    for i in range(1,n+1):\n",
    "        p=p*(i)\n",
    "    print(\"Product = \",p)\n",
    "x=x.upper()    \n",
    "if(x==\"+\"):\n",
    "    summ()\n",
    "elif(x==\"*\"):\n",
    "    product()\n",
    "else:\n",
    "    print(\"Enter a valid choice !!!\")"
   ]
  },
  {
   "cell_type": "markdown",
   "id": "de3d1251",
   "metadata": {},
   "source": [
    "Q6. Find the sum of all the multiples of 3 or 5 below 1000."
   ]
  },
  {
   "cell_type": "code",
   "execution_count": 33,
   "id": "b631f83b",
   "metadata": {},
   "outputs": [
    {
     "name": "stdout",
     "output_type": "stream",
     "text": [
      "Sum is : 233168\n"
     ]
    }
   ],
   "source": [
    "n = 1000\n",
    "sum = 0\n",
    "for i in range(1000):\n",
    "    if (i % 3 == 0 or i % 5 == 0):\n",
    "        sum += i\n",
    "\n",
    "print(\"Sum is :\", sum)"
   ]
  },
  {
   "cell_type": "markdown",
   "id": "c318b377",
   "metadata": {},
   "source": [
    "Q7. Write a program which will find all such numbers which are divisible by 7 but are not a multiple of 5, between 2000 and 3200 (both included)."
   ]
  },
  {
   "cell_type": "code",
   "execution_count": 37,
   "id": "9fd44867",
   "metadata": {},
   "outputs": [
    {
     "name": "stdout",
     "output_type": "stream",
     "text": [
      "2002 2009 2016 2023 2037 2044 2051 2058 2072 2079 2086 2093 2107 2114 2121 2128 2142 2149 2156 2163 2177 2184 2191 2198 2212 2219 2226 2233 2247 2254 2261 2268 2282 2289 2296 2303 2317 2324 2331 2338 2352 2359 2366 2373 2387 2394 2401 2408 2422 2429 2436 2443 2457 2464 2471 2478 2492 2499 2506 2513 2527 2534 2541 2548 2562 2569 2576 2583 2597 2604 2611 2618 2632 2639 2646 2653 2667 2674 2681 2688 2702 2709 2716 2723 2737 2744 2751 2758 2772 2779 2786 2793 2807 2814 2821 2828 2842 2849 2856 2863 2877 2884 2891 2898 2912 2919 2926 2933 2947 2954 2961 2968 2982 2989 2996 3003 3017 3024 3031 3038 3052 3059 3066 3073 3087 3094 3101 3108 3122 3129 3136 3143 3157 3164 3171 3178 3192 3199 "
     ]
    }
   ],
   "source": [
    "for i in range(2000,3201):\n",
    "    if(i%7==0 and i%5!=0):\n",
    "        print(i,end=\" \")"
   ]
  },
  {
   "cell_type": "markdown",
   "id": "14a2cf60",
   "metadata": {},
   "source": [
    "Q8. Find the difference between the sum of the squares of the first one hundred natural numbers and the square of the sum."
   ]
  },
  {
   "cell_type": "code",
   "execution_count": 38,
   "id": "764f76e1",
   "metadata": {},
   "outputs": [
    {
     "name": "stdout",
     "output_type": "stream",
     "text": [
      "Difference:  25164150\n"
     ]
    }
   ],
   "source": [
    "s=0\n",
    "c=0\n",
    "for i in range(1,101):\n",
    "    s+=i\n",
    "    c+=(i**2)\n",
    "diff=c-(s**2)\n",
    "print(\"Difference: \",abs(diff))"
   ]
  },
  {
   "cell_type": "markdown",
   "id": "f7b57a19",
   "metadata": {},
   "source": [
    "Q9. Write a program which can compute the factorial of a given number.\n"
   ]
  },
  {
   "cell_type": "code",
   "execution_count": 54,
   "id": "564a1f05",
   "metadata": {},
   "outputs": [
    {
     "name": "stdout",
     "output_type": "stream",
     "text": [
      "Enter the number: 8\n",
      "The factorial of 8 is 40320\n"
     ]
    }
   ],
   "source": [
    "def factorial(n):\n",
    "    if n == 1:\n",
    "        return n\n",
    "    else:\n",
    "        return n*factorial(n-1)\n",
    "\n",
    "\n",
    "n=int(input(\"Enter the number: \"))\n",
    "if n < 0:\n",
    "    print(\"Factorial is not there for negative numbers\")\n",
    "elif n == 0:\n",
    "    print(\"The factorial of 0 is 1\")\n",
    "else:\n",
    "    print(\"The factorial of\", n, \"is\", factorial(n))\n"
   ]
  },
  {
   "cell_type": "markdown",
   "id": "089095f7",
   "metadata": {},
   "source": [
    "\n"
   ]
  },
  {
   "cell_type": "code",
   "execution_count": 59,
   "id": "0564cf45",
   "metadata": {},
   "outputs": [
    {
     "name": "stdout",
     "output_type": "stream",
     "text": [
      "Enter the  number:5\n",
      "\n",
      "\n",
      "1 \n",
      "\n",
      "2 2 \n",
      "\n",
      "3 3 3 \n",
      "\n",
      "4 4 4 4 \n",
      "\n",
      "5 5 5 5 5 \n",
      "\n"
     ]
    }
   ],
   "source": [
    "n=int(input(\"Enter the  number:\"))\n",
    "for i in range(n+1):\n",
    "    for j in range(i):\n",
    "        print(i,end=\" \")\n",
    "    print(\"\\n\")"
   ]
  },
  {
   "cell_type": "markdown",
   "id": "d8901be3",
   "metadata": {},
   "source": [
    "dd"
   ]
  },
  {
   "cell_type": "code",
   "execution_count": 61,
   "id": "e1771ee0",
   "metadata": {},
   "outputs": [
    {
     "name": "stdout",
     "output_type": "stream",
     "text": [
      "5\n",
      "5 5 5 5 5 \n",
      "5 4 4 4 5 \n",
      "5 4 3 4 5 \n",
      "5 4 4 4 5 \n",
      "5 5 5 5 5 \n"
     ]
    }
   ],
   "source": [
    "\n",
    "n = int(input())\n",
    "for i in range (n):\n",
    "    for j in range (n):\n",
    "        print(max(i+1,j+1, n-i, n-j), end = \" \")\n",
    "    print()"
   ]
  },
  {
   "cell_type": "raw",
   "id": "ab1fb827",
   "metadata": {},
   "source": []
  },
  {
   "cell_type": "code",
   "execution_count": 63,
   "id": "ce5201d2",
   "metadata": {},
   "outputs": [
    {
     "name": "stdout",
     "output_type": "stream",
     "text": [
      "Enter the  number:5\n",
      "\n",
      "* \n",
      "* * \n",
      "* * * \n",
      "* * * * \n",
      "* * * * * \n"
     ]
    }
   ],
   "source": [
    "n=int(input(\"Enter the  number:\"))\n",
    "for i in range(n+1):\n",
    "    for j in range(i):\n",
    "        print(\"*\",end=\" \")\n",
    "    print()"
   ]
  },
  {
   "cell_type": "raw",
   "id": "d0cfd130",
   "metadata": {},
   "source": []
  },
  {
   "cell_type": "code",
   "execution_count": 73,
   "id": "005f81b4",
   "metadata": {},
   "outputs": [
    {
     "name": "stdout",
     "output_type": "stream",
     "text": [
      "Enter the  number:4\n",
      "****\n",
      "***\n",
      "**\n",
      "*\n"
     ]
    }
   ],
   "source": [
    "n=int(input(\"Enter the  number:\"))\n",
    "for i in range(n,0,-1):\n",
    "    for j in range(i):\n",
    "        print(\"*\",end=\"\")\n",
    "    print()"
   ]
  },
  {
   "cell_type": "raw",
   "id": "e03e1d5b",
   "metadata": {},
   "source": [
    "'''\n",
    "#####\n",
    "#####\n",
    "#####\n",
    "#####\n",
    "#####\n",
    "'''"
   ]
  },
  {
   "cell_type": "code",
   "execution_count": 74,
   "id": "0bdcd82b",
   "metadata": {},
   "outputs": [
    {
     "name": "stdout",
     "output_type": "stream",
     "text": [
      "Enter the  number:5\n",
      "#####\n",
      "#####\n",
      "#####\n",
      "#####\n",
      "#####\n"
     ]
    }
   ],
   "source": [
    "n=int(input(\"Enter the  number:\"))\n",
    "for i in range(n):\n",
    "    for j in range(n):\n",
    "        print(\"#\",end=\"\")\n",
    "    print()"
   ]
  },
  {
   "cell_type": "markdown",
   "id": "b12ab49f",
   "metadata": {},
   "source": [
    "Q11. Write a program that computes the value of a+aa+aaa+aaaa with a given digit as the value of a. Suppose the following input is supplied to the program: 9, Then, the output should be: 9 + 99 + 999 + 9999 =  11106."
   ]
  },
  {
   "cell_type": "code",
   "execution_count": 75,
   "id": "1c162561",
   "metadata": {},
   "outputs": [
    {
     "name": "stdout",
     "output_type": "stream",
     "text": [
      "Enter the number: 9\n",
      "9 + 99 + 999 + 9999 = 11106\n"
     ]
    }
   ],
   "source": [
    "n = int(input(\"Enter the number: \"))\n",
    "res = 0\n",
    "def add(n, res):\n",
    "    for i in range (1, 5):\n",
    "        res += int(f\"{n}\"*i)\n",
    "        print(f\"{n}\"*i, end = \" \")\n",
    "        if(i < 4):\n",
    "            print(\"+\", end = \" \")\n",
    "        else:\n",
    "            print(\"=\", end = \" \")\n",
    "    return res\n",
    "\n",
    "print(add(n, res))"
   ]
  },
  {
   "cell_type": "markdown",
   "id": "8ba008fe",
   "metadata": {},
   "source": [
    "Q12. Find the length of a string using loops (not len()).\n"
   ]
  },
  {
   "cell_type": "code",
   "execution_count": 79,
   "id": "7ca32c7e",
   "metadata": {},
   "outputs": [
    {
     "name": "stdout",
     "output_type": "stream",
     "text": [
      "Enter a string:f;v,v\n",
      "Length of the string 'f;v,v' is 5\n"
     ]
    }
   ],
   "source": [
    "n = input(\"Enter a string:\")\n",
    "s = 0\n",
    "for _ in n:\n",
    "    s+=1\n",
    "print(f\"Length of the string '{n}' is {s}\")"
   ]
  },
  {
   "cell_type": "markdown",
   "id": "4a6d585d",
   "metadata": {},
   "source": [
    "Q13. Write a program that accepts a sentence (string) and calculate the number of letters and digits. Example: ‘this is a test sentence number 389’ ==> letters = 25 and digits = 3."
   ]
  },
  {
   "cell_type": "code",
   "execution_count": 86,
   "id": "7be98a28",
   "metadata": {},
   "outputs": [
    {
     "name": "stdout",
     "output_type": "stream",
     "text": [
      "8u845unjgrndjnjondfio\n",
      "\n",
      "letters = 17 and  digits = 4\n"
     ]
    }
   ],
   "source": [
    "sen=input()\n",
    "letter=0\n",
    "digit=0\n",
    "for i in sen:\n",
    "    if(i.isalpha()):\n",
    "        letter+=1\n",
    "    if(i.isdigit()):\n",
    "        digit+=1\n",
    "print()        \n",
    "print(f\"letters = {letter} and  digits = {digit}\")\n"
   ]
  },
  {
   "cell_type": "markdown",
   "id": "90c0d9a2",
   "metadata": {},
   "source": [
    "Q14.  Write a program that accepts a string and outputs the string with all capital letters.\n",
    "\n",
    "      Example: ‘hello’ ==> ‘HELLO’. (using loop)"
   ]
  },
  {
   "cell_type": "code",
   "execution_count": 84,
   "id": "0b36f7ca",
   "metadata": {},
   "outputs": [
    {
     "name": "stdout",
     "output_type": "stream",
     "text": [
      "hello\n",
      "HELLO\n"
     ]
    }
   ],
   "source": [
    "s=input()\n",
    "upper=''\n",
    "for i in range(len(s)):\n",
    "    if (s[i]>='a' and s[i]<='z'):\n",
    "        upper=upper+chr((ord(s[i]) - 32))\n",
    "    else:\n",
    "        upper=upper+s[i]\n",
    "print(upper)"
   ]
  },
  {
   "cell_type": "markdown",
   "id": "c5c1647f",
   "metadata": {},
   "source": [
    "Q15. Write a program that accepts a sentence and calculate the number of upper case letters and lower case letters.\n"
   ]
  },
  {
   "cell_type": "code",
   "execution_count": 87,
   "id": "040a28b8",
   "metadata": {},
   "outputs": [
    {
     "name": "stdout",
     "output_type": "stream",
     "text": [
      "vjhuhvizKIIHDLkcknvdk\n",
      "Uppercase letters:  6\n",
      "Lowercase letters:  15\n"
     ]
    }
   ],
   "source": [
    "sen=input()\n",
    "upper=0\n",
    "lower=0\n",
    "for i in sen:\n",
    "    if(i.isupper()):\n",
    "        upper+=1\n",
    "    if(i.islower()):\n",
    "        lower+=1\n",
    "print(\"Uppercase letters: \",upper)\n",
    "print(\"Lowercase letters: \",lower)"
   ]
  },
  {
   "cell_type": "markdown",
   "id": "6197e313",
   "metadata": {},
   "source": [
    "Q16. Write a program that counts the occurrence of a character in a string. Example: ‘This is a test string.’ count of i = 3.\n",
    "\n"
   ]
  },
  {
   "cell_type": "code",
   "execution_count": 88,
   "id": "94c65442",
   "metadata": {},
   "outputs": [
    {
     "name": "stdout",
     "output_type": "stream",
     "text": [
      "This is a test string\n",
      "Enter a character to get it's count:i\n",
      "Count of i is = 3\n"
     ]
    }
   ],
   "source": [
    "n = input()\n",
    "char = input(\"Enter a character to get it's count:\")\n",
    "if char in n:\n",
    "    print(f\"Count of {char} is = {n.count(char)}\")\n",
    "else:\n",
    "    print(\"Does  not exist in string\")"
   ]
  },
  {
   "cell_type": "markdown",
   "id": "8f4fbd13",
   "metadata": {},
   "source": [
    "Q17. Write a program to find if a given string is a palindrome or not."
   ]
  },
  {
   "cell_type": "code",
   "execution_count": 90,
   "id": "a98d6599",
   "metadata": {},
   "outputs": [
    {
     "name": "stdout",
     "output_type": "stream",
     "text": [
      "Enter a string:helleh\n",
      "It is a palindrome\n"
     ]
    }
   ],
   "source": [
    "s = input(\"Enter a string:\")\n",
    "if s == s[::-1]:\n",
    "    print(\"It is a palindrome\")\n",
    "else:\n",
    "    print(\"It is not a pailndrome\")"
   ]
  },
  {
   "cell_type": "markdown",
   "id": "7dc98641",
   "metadata": {},
   "source": [
    "Q18. Write a program which accepts two strings s1 and s2 and checks if s2 is a substring of s1.\n"
   ]
  },
  {
   "cell_type": "code",
   "execution_count": 95,
   "id": "adc60f99",
   "metadata": {},
   "outputs": [
    {
     "name": "stdout",
     "output_type": "stream",
     "text": [
      "Enter s1:kmkpbmdkpm lmv\n",
      "Enter s2fknfm\n",
      "No\n",
      "'fknfm' is not  a substring of 'kmkpbmdkpm lmv'\n"
     ]
    }
   ],
   "source": [
    "s1 = input(\"Enter s1:\")\n",
    "s2 = input(\"Enter s2\")\n",
    "if s2 in s1:\n",
    "    print(\"Yes\")\n",
    "    print(f\"'{s2}' is a substring of '{s1}'\")\n",
    "else:\n",
    "    print(\"No\")\n",
    "    print(f\"'{s2}' is not  a substring of '{s1}'\")"
   ]
  },
  {
   "cell_type": "markdown",
   "id": "0b3825dc",
   "metadata": {},
   "source": [
    "Q19. Make a password validator with the following checks. A website requires the users to input username and password to register. Write a program to check the validity of password input by users.\n",
    "\n",
    "    Following are the criteria for checking the password:\n",
    "1. At least  1 letter between [a-z]     \n",
    "2. At least 1 number between [0-9]     \n",
    "3. At least 1 letter between [@$#%&]"
   ]
  },
  {
   "cell_type": "code",
   "execution_count": 102,
   "id": "ce61e94d",
   "metadata": {},
   "outputs": [
    {
     "name": "stdout",
     "output_type": "stream",
     "text": [
      "Enter username: kvnk\n",
      "Enter password: 8578585kkibi@#\n",
      "Valid\n"
     ]
    }
   ],
   "source": [
    "username=input(\"Enter username: \")\n",
    "password=input(\"Enter password: \")\n",
    "letter=0\n",
    "number=0\n",
    "ss=\"@$#%&\"\n",
    "symbol=0\n",
    "for i in password:\n",
    "    if(i.isalpha()):\n",
    "        letter+=1\n",
    "    if(i.isdigit()):\n",
    "        number+=1\n",
    "    if(i in ss):\n",
    "        symbol+=1\n",
    "if(letter>=1 and number>=1 and symbol>=1):\n",
    "    print(\"Valid\")\n",
    "elif(letter==0 and number>=1 and symbol>=1):\n",
    "    print(\"Invalid 1 letter between [a-z] required\")\n",
    "elif(letter>=1 and number==0 and symbol>=1):\n",
    "    print(\"Invalid 1 number between [0-9] required\")\n",
    "elif(letter>=1 and number>=1 and symbol==0):\n",
    "    print(\"Invalid 1 symbol between [@#$%&] required\")\n",
    "else:\n",
    "    print(\"Invalid\")\n",
    "\n"
   ]
  },
  {
   "cell_type": "markdown",
   "id": "932c76ea",
   "metadata": {},
   "source": [
    "Q20. s = \"Hello how are you all\". For this given string write a code such that it prints the vowels present in the string s if any. ex: \"i\", \"a\" etc."
   ]
  },
  {
   "cell_type": "code",
   "execution_count": 106,
   "id": "7d9ee9f5",
   "metadata": {},
   "outputs": [
    {
     "name": "stdout",
     "output_type": "stream",
     "text": [
      "Vowels are: a e i o u "
     ]
    }
   ],
   "source": [
    "s = \"Hello how are you alli\"\n",
    "vowels= \"aeiouAEIOU\"\n",
    "fx = []\n",
    "for i in vowels:\n",
    "    if i in s and i not in fx:\n",
    "        fx.append(i)\n",
    "if (len(fx) > 0):\n",
    "    print(\"Vowels are\", end = \": \")\n",
    "    for vowels in fx:\n",
    "        print(vowels, end = \" \")\n",
    "else:\n",
    "    print(\"There are no vowels.\")"
   ]
  },
  {
   "cell_type": "code",
   "execution_count": null,
   "id": "cedb7259",
   "metadata": {},
   "outputs": [],
   "source": []
  }
 ],
 "metadata": {
  "kernelspec": {
   "display_name": "Python 3",
   "language": "python",
   "name": "python3"
  },
  "language_info": {
   "codemirror_mode": {
    "name": "ipython",
    "version": 3
   },
   "file_extension": ".py",
   "mimetype": "text/x-python",
   "name": "python",
   "nbconvert_exporter": "python",
   "pygments_lexer": "ipython3",
   "version": "3.8.5"
  }
 },
 "nbformat": 4,
 "nbformat_minor": 5
}
