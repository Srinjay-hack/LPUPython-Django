{
 "cells": [
  {
   "cell_type": "code",
   "execution_count": 63,
   "id": "c83aa45d",
   "metadata": {},
   "outputs": [
    {
     "name": "stdout",
     "output_type": "stream",
     "text": [
      "22\n",
      "['Hey', 'iam', 'from', 'New', 'Delhi']\n"
     ]
    }
   ],
   "source": [
    "#Q1.  From this given string: s = \"Hey i am from New Delhi\". \n",
    "#Find out: length of string, convert this to list using split operation.\n",
    "\n",
    "s=\"Hey iam from New Delhi\"\n",
    "print(len(s))\n",
    "print(s.split())"
   ]
  },
  {
   "cell_type": "code",
   "execution_count": 64,
   "id": "a649a33c",
   "metadata": {},
   "outputs": [
    {
     "name": "stdout",
     "output_type": "stream",
     "text": [
      "Name is rahul\n",
      "Rame Is Rahul\n",
      "NAME IS RAHUL\n"
     ]
    }
   ],
   "source": [
    "#Q2.  Given string s = \"name is rahul\". Write code to give following o/p.\n",
    "#- \"Name is rahul\"\n",
    "#-  \"Rame Is Rahul\"\n",
    "#-  \"NAME IS RAHUL\"\n",
    "\n",
    "s=\"name is rahul\"\n",
    "a=s.capitalize()\n",
    "print(a)\n",
    "b=s.title()\n",
    "b=list(b)\n",
    "b[0]='R'\n",
    "print(\"\".join(b))\n",
    "c=s.upper()\n",
    "print(c)\n"
   ]
  },
  {
   "cell_type": "code",
   "execution_count": 40,
   "id": "f0f39283",
   "metadata": {},
   "outputs": [
    {
     "name": "stdout",
     "output_type": "stream",
     "text": [
      "Length: 4\n",
      "Breadth: 5\n",
      "18\n"
     ]
    }
   ],
   "source": [
    "#Q3. Using length and breadth as input find out area and perimeter of a given rectangle.\n",
    "length=int(input(\"Length: \"))\n",
    "breadth=int(input(\"Breadth: \"))\n",
    "perimeter= 2*(length+breadth)\n",
    "print(perimeter)"
   ]
  },
  {
   "cell_type": "code",
   "execution_count": 61,
   "id": "36b1566f",
   "metadata": {},
   "outputs": [
    {
     "name": "stdout",
     "output_type": "stream",
     "text": [
      "Diameter: 6\n",
      "Circumferece:  18.849\n"
     ]
    }
   ],
   "source": [
    "#Q4. Using diameter as input find out circumference and area of a circle.\n",
    "diameter=int(input(\"Diameter: \"))\n",
    "\n",
    "circumference = 2*3.1415*(diameter/2)\n",
    "print(\"Circumferece: \",circumference)\n"
   ]
  },
  {
   "cell_type": "code",
   "execution_count": 43,
   "id": "be059602",
   "metadata": {},
   "outputs": [
    {
     "name": "stdout",
     "output_type": "stream",
     "text": [
      "a:4\n",
      "b:67\n",
      "c:4\n",
      "Root1:  -0.06426139204516328\n",
      "Root2:  -25.935738607954836\n"
     ]
    }
   ],
   "source": [
    "#Q5. Write a program to compute roots of a quadratic equation when coefficients a, b and c are known(entered by user).\n",
    "\n",
    "import math\n",
    "from math import sqrt\n",
    "a=int(input(\"a:\"))\n",
    "b=int(input(\"b:\"))\n",
    "c=int(input(\"c:\"))\n",
    "try:\n",
    "    d=math.sqrt((b*b)-(4*a*c))\n",
    "    root1=(-b+d)/(2*a)\n",
    "    root2=(-b-d)/(2*a)\n",
    "    print(\"Root1: \",r1)\n",
    "    print(\"Root2: \",r2)\n",
    "except ValueError:\n",
    "    print (\"Please enter the value B >>> A and C \")\n",
    "\n",
    "\n"
   ]
  },
  {
   "cell_type": "code",
   "execution_count": 62,
   "id": "8db432a1",
   "metadata": {},
   "outputs": [
    {
     "name": "stdout",
     "output_type": "stream",
     "text": [
      "Radius: 5\n",
      "The volume of sphere is :  522.2743750000001\n"
     ]
    }
   ],
   "source": [
    "#Q6. Find volume of a sphere using radius as input.\n",
    "import math\n",
    "r=int(input(\"Radius: \"))\n",
    "radius=math.pow(r,3)\n",
    "vol=1.33*3.1415*radius\n",
    "print(\"The volume of sphere is : \",vol)\n"
   ]
  },
  {
   "cell_type": "code",
   "execution_count": 53,
   "id": "329091e3",
   "metadata": {},
   "outputs": [
    {
     "name": "stdout",
     "output_type": "stream",
     "text": [
      "454545\n",
      "6\n"
     ]
    }
   ],
   "source": [
    "#Q7. Count the  number of digits in a number. Example: 3454 has 4 digits.\n",
    "number=int(input())\n",
    "count=0\n",
    "while number!=0:\n",
    "    number=number//10\n",
    "    count+=1\n",
    "print(count)"
   ]
  },
  {
   "cell_type": "code",
   "execution_count": 73,
   "id": "a1839cb2",
   "metadata": {},
   "outputs": [
    {
     "name": "stdout",
     "output_type": "stream",
     "text": [
      "Elephant\n",
      "ELEPHANT\n"
     ]
    }
   ],
   "source": [
    "#Q8. Write a program that accepts a string and gives output string with all capital letters.\n",
    "fx=input()\n",
    "fx=fx.upper()\n",
    "print(fx)"
   ]
  },
  {
   "cell_type": "code",
   "execution_count": 72,
   "id": "abbf5a7b",
   "metadata": {},
   "outputs": [
    {
     "name": "stdout",
     "output_type": "stream",
     "text": [
      "hello\n",
      "0\n",
      "j\n"
     ]
    },
    {
     "data": {
      "text/plain": [
       "'jello'"
      ]
     },
     "execution_count": 72,
     "metadata": {},
     "output_type": "execute_result"
    }
   ],
   "source": [
    "'''Q9. Write a program to that accepts a string s, an index number n and a character ‘c’.\n",
    "And outputs the string replaced with the character at the index number n. Example- ‘hello’ , 0 , ‘j’ ==> ‘jello’.\n",
    "(Hint2: You can try it by join function too by typecasting it to list)'''\n",
    "s=input()\n",
    "n=int(input())\n",
    "c=input()\n",
    "\n",
    "fx=list(s)\n",
    "fx[n]=c\n",
    "\"\".join(fx)"
   ]
  },
  {
   "cell_type": "code",
   "execution_count": 71,
   "id": "e7dff990",
   "metadata": {},
   "outputs": [
    {
     "name": "stdout",
     "output_type": "stream",
     "text": [
      "Hey There\n",
      "erehT yeH\n"
     ]
    }
   ],
   "source": [
    "#Q10. Reverse a string. Example: 'Hey there' = 'ereht yeH'\n",
    "s=input()\n",
    "s1=list(s)\n",
    "print(\"\".join(s1[::-1]))"
   ]
  },
  {
   "cell_type": "code",
   "execution_count": null,
   "id": "456f9098",
   "metadata": {},
   "outputs": [],
   "source": []
  }
 ],
 "metadata": {
  "kernelspec": {
   "display_name": "Python 3",
   "language": "python",
   "name": "python3"
  },
  "language_info": {
   "codemirror_mode": {
    "name": "ipython",
    "version": 3
   },
   "file_extension": ".py",
   "mimetype": "text/x-python",
   "name": "python",
   "nbconvert_exporter": "python",
   "pygments_lexer": "ipython3",
   "version": "3.8.5"
  }
 },
 "nbformat": 4,
 "nbformat_minor": 5
}
